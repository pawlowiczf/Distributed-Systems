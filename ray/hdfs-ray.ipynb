{
 "cells": [
  {
   "cell_type": "code",
   "execution_count": 1,
   "id": "68b35360",
   "metadata": {},
   "outputs": [],
   "source": [
    "import ray\n",
    "import time\n",
    "import numpy as np\n",
    "import os\n",
    "import uuid\n",
    "import random  "
   ]
  },
  {
   "cell_type": "code",
   "execution_count": null,
   "id": "764b01e6",
   "metadata": {},
   "outputs": [],
   "source": [
    "if ray.is_initialized:\n",
    "    ray.shutdown()\n",
    "ray.init(ignore_reinit_error=True)"
   ]
  },
  {
   "cell_type": "code",
   "execution_count": null,
   "id": "ef2977a7",
   "metadata": {},
   "outputs": [],
   "source": [
    "# content - string of length 64 \n",
    "# it is always split into 4 blocks of size 16 each \n",
    "class Artefact:\n",
    "    def __init__(self, name, content):\n",
    "        self.name = name\n",
    "        self.content = content \n",
    "# end Artefact class \n",
    "\n",
    "class Block:\n",
    "    def __init__(self, blockID, blockContent, randomDataNodes):\n",
    "        self.blockID = blockID\n",
    "        self.blockContent = blockContent\n",
    "        self.dataNodes = randomDataNodes\n",
    "        \n",
    "    def saveContentToNodes(self):\n",
    "        for dataNode in self.dataNodes:\n",
    "            dataNode.saveBlockContent.remote(self.blockID, self.blockContent)\n",
    "    \n",
    "    def getContentFromNode(self):\n",
    "        n = len(self.dataNodes)\n",
    "\n",
    "        # random data node - load balancing \n",
    "        idx = np.random.randint(0, n)\n",
    "\n",
    "        return ray.get(self.dataNodes[idx].getBlockContent.remote(self.blockID))\n",
    "# end class Block"
   ]
  },
  {
   "cell_type": "code",
   "execution_count": null,
   "id": "a0e8db78",
   "metadata": {},
   "outputs": [],
   "source": [
    "NUM_OF_BLOCK_COPIES = 3 \n",
    "\n",
    "@ray.remote \n",
    "class NameNode:\n",
    "    def __init__(self, dataNodes):\n",
    "        self.files = {} # filename -> list of instances of Block class \n",
    "        self.dataNodes = dataNodes # list of data nodes\n",
    "    \n",
    "    def addNewArtefact(self, artefact: Artefact):\n",
    "        blocks = self.splitArtefactIntoBlocks(artefact)\n",
    "        self.files[artefact.name] = blocks \n",
    "    #\n",
    "\n",
    "    def splitArtefactIntoBlocks(self, artefact: Artefact):\n",
    "        blocks = [] \n",
    "        for a in range(4):\n",
    "            blockContent = artefact.content[16 * a : 16 * (a + 1)]\n",
    "            blockID = uuid.uuid4()\n",
    "            randomDataNodes = random.sample(self.dataNodes, min(len(self.dataNodes), NUM_OF_BLOCK_COPIES))\n",
    "\n",
    "            block = Block.remote(blockID, blockContent, randomDataNodes)\n",
    "            block.saveContentToNodes()\n",
    "\n",
    "            blocks.append(block)\n",
    "        #\n",
    "        return blocks \n",
    "    #\n",
    "\n",
    "    def restoreArtefact(self, filename):\n",
    "        blocks = self.files[filename]\n",
    "        contents = []\n",
    "        for block in blocks:\n",
    "            content = block.getContentFromNode()\n",
    "            contents.append(ray.get(content))\n",
    "        #\n",
    "        return \"\".join(contents)\n",
    "    #\n",
    "# end NameNode class "
   ]
  },
  {
   "cell_type": "code",
   "execution_count": null,
   "id": "604c76c8",
   "metadata": {},
   "outputs": [],
   "source": [
    "@ray.remote \n",
    "class DataNode:\n",
    "    def __init__(self):\n",
    "        self.dataNodeID = uuid.uuid4()\n",
    "        self.data = {} # block ID -> block content \n",
    "    \n",
    "    def saveBlockContent(self, blockID, blockContent):\n",
    "        self.data[blockID] = blockContent\n",
    "\n",
    "    def getBlockContent(self, blockID):\n",
    "        return self.data[blockID]\n",
    "# end DataNode class "
   ]
  },
  {
   "cell_type": "code",
   "execution_count": null,
   "id": "5ffeb6db",
   "metadata": {},
   "outputs": [],
   "source": [
    "dataNodes = [DataNode.remote() for _ in range(10)]\n",
    "nameNode = NameNode.remote(dataNodes)"
   ]
  },
  {
   "cell_type": "code",
   "execution_count": null,
   "id": "feb6f64f",
   "metadata": {},
   "outputs": [
    {
     "data": {
      "text/plain": [
       "ObjectRef(cd571e6fa427b0660b4572d8321d92cee2d5cf9e0100000001000000)"
      ]
     },
     "execution_count": 195,
     "metadata": {},
     "output_type": "execute_result"
    }
   ],
   "source": [
    "text = \"Filip i Karol weszli razem na polanke by poogladac piekna przyrode i razem odpoczac\"\n",
    "\n",
    "artefact = Artefact(\"password\", text[:64])\n",
    "nameNode.addNewArtefact.remote(artefact)"
   ]
  },
  {
   "cell_type": "code",
   "execution_count": null,
   "id": "60c7efcd",
   "metadata": {},
   "outputs": [
    {
     "name": "stdout",
     "output_type": "stream",
     "text": [
      "Filip i Karol weszli razem na polanke by poogladac piekna przyro\n",
      "64\n"
     ]
    }
   ],
   "source": [
    "content = nameNode.restoreArtefact.remote(artefact.name)\n",
    "content = ray.get(content)\n",
    "print(content)\n",
    "print(len(content))"
   ]
  }
 ],
 "metadata": {
  "kernelspec": {
   "display_name": "Python 3",
   "language": "python",
   "name": "python3"
  },
  "language_info": {
   "codemirror_mode": {
    "name": "ipython",
    "version": 3
   },
   "file_extension": ".py",
   "mimetype": "text/x-python",
   "name": "python",
   "nbconvert_exporter": "python",
   "pygments_lexer": "ipython3",
   "version": "3.11.0"
  }
 },
 "nbformat": 4,
 "nbformat_minor": 5
}
